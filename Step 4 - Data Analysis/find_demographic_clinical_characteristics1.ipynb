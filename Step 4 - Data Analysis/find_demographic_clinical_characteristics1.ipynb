{
 "cells": [
  {
   "cell_type": "markdown",
   "metadata": {},
   "source": [
    "# Calculate demographic and clinical characteristics\n",
    "##### Updated 08/21/2024\n",
    "##### Selin Kubali\n",
    "\n",
    "#### Goal:\n",
    "Calculate median, mean, IQR, standard deviations, and/or counts for variables used in Cox regression model.\n",
    "\n",
    "#### Required inputs\n",
    "\n",
    "Lifelines files - Stored in */selected_genes/hcm/cox_model_data*. \n"
   ]
  },
  {
   "cell_type": "code",
   "execution_count": null,
   "metadata": {},
   "outputs": [],
   "source": [
    "import pandas as pd\n",
    "import numpy as np"
   ]
  },
  {
   "cell_type": "markdown",
   "metadata": {},
   "source": [
    "##### Calculate demographic and clinical characteristics"
   ]
  },
  {
   "cell_type": "code",
   "execution_count": null,
   "metadata": {},
   "outputs": [],
   "source": [
    "# read in file: demographic and clinical characteristics are the same for all genes\n",
    "def demographic_clinical_characteristics(gene, dir_path = 'selected_genes/hcm/cox_model_data'):\n",
    "        lifelines_data = pd.read_csv(f'/mnt/project/{dir_path}/{gene}_with_generated_data.csv', dtype={\n",
    "        'is_family_hist':'boolean',\n",
    "        'is_hcm':'boolean'\n",
    "        })\n",
    "\n",
    "        lifelines_data['prs_score'] = (lifelines_data['prs_score'] - lifelines_data['prs_score'].min()) / (lifelines_data['prs_score'].max() - lifelines_data['prs_score'].min())  # normalize PRS  \n",
    "\n",
    "        lifelines_data = lifelines_data[['is_HCM', 'duration', 'prs_score', 'sex', 'is_family_hist', 'is_AF', 'is_HTN']]\n",
    "        lifelines_data_hcm = lifelines_data[lifelines_data['is_HCM'] == 1]\n",
    "        lifelines_data_no_hcm = lifelines_data[lifelines_data['is_HCM'] == 0]\n",
    "        return lifelines_data, lifelines_data_hcm, lifelines_data_no_hcm\n",
    "lifelines_data, lifelines_data_hcm, lifelines_data_no_hcm = demographic_clinical_characteristics('ACTN2')"
   ]
  },
  {
   "cell_type": "code",
   "execution_count": null,
   "metadata": {},
   "outputs": [],
   "source": [
    "significant_figures = 2\n",
    "medians = pd.DataFrame({})\n",
    "dict_list = []\n",
    "# find 25th, 50th, and 75th percentiles for duration and prs_score for full cohort, patients with HCM, and patients without HCM\n",
    "for cols in ['duration', 'prs_score']:\n",
    "    col_list = {}\n",
    "    for df, df_name in zip([lifelines_data, lifelines_data_hcm, lifelines_data_no_hcm], ['Full Cohort' ,'With HCM', 'Without HCM']):\n",
    "        col = df[cols]\n",
    "        col = col[~np.isnan(col)]\n",
    "        percentiles = np.percentile(col, [25, 50, 75]) # find median and IQR\n",
    "        formatted_numbers = []\n",
    "\n",
    "        # format information\n",
    "        for num in percentiles:\n",
    "            formatted_numbers.append(\"{:.{}g}\".format(num, significant_figures))\n",
    "        string = str(formatted_numbers[1])+' ('+str(formatted_numbers[0])+'-'+str(formatted_numbers[2])+')'\n",
    "        col_list[df_name] = string\n",
    "    dict_list.append(col_list)\n",
    "    \n",
    "df = pd.DataFrame(dict_list, index = ['Duration', 'Normalized PRS score'])\n",
    "df"
   ]
  },
  {
   "cell_type": "code",
   "execution_count": null,
   "metadata": {},
   "outputs": [],
   "source": [
    "sums = pd.DataFrame({})\n",
    "# find counts for sex, family history of CAD, presence of atrial fibrillation, and presence of hypertension for full cohort, patients with HCM, and patients without HCM\n",
    "dict_list = []\n",
    "for cols in ['sex', 'is_family_hist', 'is_AF', 'is_HTN']:\n",
    "    col_list = {}\n",
    "    for df, df_name in zip([lifelines_data, lifelines_data_hcm, lifelines_data_no_hcm], ['Full Cohort' ,'With HCM (Num = 751)', 'Without HCM (Num = 501608)']):\n",
    "        col = df[cols]\n",
    "        col = col[~np.isnan(col)]\n",
    "        formatted_numbers = []\n",
    "\n",
    "        # format information\n",
    "        string = str(\"{:.{}g}\".format(col.sum(), 7)) + ' (' + str(\"{:.{}g}\".format(col.mean(), 2)) + '%)'\n",
    "        col_list[df_name] = string\n",
    "    dict_list.append(col_list)\n",
    "    \n",
    "df = pd.DataFrame(dict_list, index = ['Number Male', 'Family History of CAD', 'Atrial Fibrillation', 'Hypertension'])\n",
    "df"
   ]
  },
  {
   "cell_type": "markdown",
   "metadata": {},
   "source": [
    "##### Calculate variant characteristics"
   ]
  },
  {
   "cell_type": "code",
   "execution_count": null,
   "metadata": {},
   "outputs": [],
   "source": [
    "# combine information from all genes to calculate variant characteristics\n",
    "def combine_all_genes(dir_path = 'selected_genes/hcm/cox_model_data'):\n",
    "    full_df = pd.DataFrame({})\n",
    "    gene_list = ['ACTN2', 'ALPK3','FLNC','MYBPC3','MYH6','MYH7','MYL2','PTPN11','TNNT2']    \n",
    "    for gene in gene_list:\n",
    "        gene_data = pd.read_csv(f'/mnt/project/{dir_path}/{gene}_with_generated_data.csv', dtype={\n",
    "                })\n",
    "        print(gene)\n",
    "\n",
    "                \n",
    "        if 'revel_max' not in gene_data.columns:\n",
    "            gene_data = gene_data[['am_pathogenicity','spliceai_ds_max','cadd_raw_score', 'phylop', 'faf_max','Consequence', 'is_HCM']]\n",
    "        else:\n",
    "            gene_data = gene_data[['am_pathogenicity', 'spliceai_ds_max', 'revel_max', 'cadd_raw_score', 'phylop', 'faf_max', 'Consequence', 'is_HCM']]\n",
    "            gene_data['revel_max'] = (gene_data['revel_max'] - gene_data['revel_max'].min()) / (gene_data['revel_max'].max() - gene_data['revel_max'].min())     \n",
    "            \n",
    "        gene_data = gene_data[gene_data['Consequence'] == 'missense_variant']\n",
    "\n",
    "        gene_data = gene_data.drop(['Consequence'], axis = 1)\n",
    "\n",
    "        # normalize\n",
    "        gene_data['am_pathogenicity'] = (gene_data['am_pathogenicity'] - gene_data['am_pathogenicity'].min()) / (gene_data['am_pathogenicity'].max() - gene_data['am_pathogenicity'].min())     \n",
    "        gene_data['cadd_raw_score'] = (gene_data['cadd_raw_score'] - gene_data['cadd_raw_score'].min()) / (gene_data['cadd_raw_score'].max() - gene_data['cadd_raw_score'].min())     \n",
    "        gene_data['phylop'] = (gene_data['phylop'] - gene_data['phylop'].min()) / (gene_data['phylop'].max() - gene_data['phylop'].min())     \n",
    "\n",
    "\n",
    "        full_df = pd.concat([full_df,gene_data])\n",
    "        return full_df\n",
    "full_df = combine_all_genes()"
   ]
  },
  {
   "cell_type": "code",
   "execution_count": null,
   "metadata": {},
   "outputs": [],
   "source": [
    "lifelines_data = full_df[['is_HCM',  'am_pathogenicity', 'spliceai_ds_max', 'revel_max', 'cadd_raw_score', 'phylop', 'faf_max',]]\n",
    "lifelines_data_hcm = full_df[full_df['is_HCM'] == 1]\n",
    "lifelines_data_no_hcm = full_df[full_df['is_HCM'] == 0]\n",
    "\n",
    "significant_figures = 2\n",
    "medians = pd.DataFrame({})\n",
    "dict_list = []\n",
    "# find 25th, 50th, and 75th percentiles for AlphaMissense score, CADD score, PhyloP score, REVEL score, SpliceAI max score, and maximum population allele frequency for full cohort, patients with HCM, and patients without HCM\n",
    "for cols in ['am_pathogenicity', 'spliceai_ds_max', 'revel_max', 'cadd_raw_score', 'phylop', 'faf_max']:\n",
    "    col_list = {}\n",
    "    for df, df_name in zip([lifelines_data, lifelines_data_no_hcm, lifelines_data_hcm], ['Full Cohort' , 'Without HCM', 'With HCM']):\n",
    "        col = df[cols]\n",
    "        col = col[~np.isnan(col)]\n",
    "        percentiles = np.percentile(col, [25, 50, 75]) # find medians and IQR\n",
    "        formatted_numbers = []\n",
    "\n",
    "        # format\n",
    "        for num in percentiles:\n",
    "            formatted_numbers.append(\"{:.{}g}\".format(num, significant_figures))\n",
    "        string = str(formatted_numbers[1])+' ('+str(formatted_numbers[0])+'-'+str(formatted_numbers[2])+')'\n",
    "        col_list[df_name] = string\n",
    "    dict_list.append(col_list)\n",
    "    \n",
    "df = pd.DataFrame(dict_list, index = ['AlphaMissense', 'SpliceAI', 'REVEL', 'CADD', 'PhyloP', 'Pop freq'])\n",
    "df"
   ]
  }
 ],
 "metadata": {
  "language_info": {
   "name": "python"
  }
 },
 "nbformat": 4,
 "nbformat_minor": 2
}
